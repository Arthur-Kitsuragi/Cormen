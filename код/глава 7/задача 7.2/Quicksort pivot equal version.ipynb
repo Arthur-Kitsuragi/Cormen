{
 "cells": [
  {
   "cell_type": "code",
   "execution_count": 3,
   "metadata": {},
   "outputs": [
    {
     "name": "stdout",
     "output_type": "stream",
     "text": [
      "[0, 1, 2, 4, 4, 4, 4, 7, 7, 9, 16]\n"
     ]
    }
   ],
   "source": [
    "import random\n",
    "def partition(A, p, r):\n",
    "    x= A[r]\n",
    "    i = t = p-1\n",
    "    for j in range (p, r):\n",
    "        if (A[j] < x):\n",
    "            i += 1\n",
    "            t += 1\n",
    "            A[t], A[i] = A[i], A[t]\n",
    "            A[i], A[j] = A[j], A[i]\n",
    "        elif(A[j] == x):\n",
    "            t += 1\n",
    "            A[j], A[t] = A[t], A[j]\n",
    "    t+=1\n",
    "    A[t], A[r] = A[r], A[t]\n",
    "    return [i + 1, t]\n",
    "def randomised_partition(A, p, r):\n",
    "    i = random.randint(p, r)\n",
    "    A[r], A[i] = A[i], A[r]\n",
    "    return partition(A, p ,r)\n",
    "def quicksort(A, p, r):\n",
    "    if (p < r):\n",
    "        q, t = randomised_partition(A,p,r)\n",
    "        quicksort(A, p, q-1)\n",
    "        quicksort(A, t+1, r)\n",
    "B = [7, 2, 4, 16, 1, 4, 4, 7, 0 , 4, 9]\n",
    "quicksort(B, 0, 10)\n",
    "print(B)"
   ]
  },
  {
   "cell_type": "code",
   "execution_count": null,
   "metadata": {},
   "outputs": [],
   "source": []
  }
 ],
 "metadata": {
  "kernelspec": {
   "display_name": "Python 3",
   "language": "python",
   "name": "python3"
  },
  "language_info": {
   "codemirror_mode": {
    "name": "ipython",
    "version": 3
   },
   "file_extension": ".py",
   "mimetype": "text/x-python",
   "name": "python",
   "nbconvert_exporter": "python",
   "pygments_lexer": "ipython3",
   "version": "3.8.3"
  }
 },
 "nbformat": 4,
 "nbformat_minor": 4
}
